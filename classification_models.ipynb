{
 "cells": [
  {
   "cell_type": "code",
   "execution_count": 19,
   "metadata": {},
   "outputs": [],
   "source": [
    "import pandas as pd\n",
    "import numpy as np\n",
    "import matplotlib.pyplot as plt\n",
    "import seaborn as sns\n",
    "from sklearn.model_selection import train_test_split\n",
    "from sklearn.naive_bayes import GaussianNB\n",
    "from sklearn.tree import DecisionTreeClassifier\n",
    "from sklearn.neighbors import KNeighborsClassifier\n",
    "from sklearn.ensemble import AdaBoostClassifier, BaggingClassifier\n",
    "from sklearn.metrics import accuracy_score"
   ]
  },
  {
   "cell_type": "code",
   "execution_count": 20,
   "metadata": {},
   "outputs": [],
   "source": [
    "def prep_data(path, train_percent):\n",
    "\n",
    "    to_normalize = ['neighbours_1', 'neighbours_2', 'common_neigbhours', 'total_neigbhours',\n",
    "                     'prefferential_attachment', 'friends_measure', 'shortest_path']\n",
    " \n",
    "    # to_drop = ['node_1', 'node_2']\n",
    "    # to_drop = ['node_1', 'node_2', 'shortest_path']\n",
    "    # to_drop = ['node_1', 'node_2', 'shortest_path', 'density_ego_with_node_1', 'density_ego_with_node_2',\n",
    "    #             'density_ego_without_node_1', 'density_ego_without_node_2']\n",
    "    to_drop = ['node_1', 'node_2', 'density_ego_with_node_1', 'density_ego_with_node_2',\n",
    "                'density_ego_without_node_1', 'density_ego_without_node_2']\n",
    "    data = pd.read_csv(path)\n",
    "\n",
    "    \n",
    "    for col in to_normalize:\n",
    "        data[col] = (data[col] - data[col].min()) / (data[col].max() - data[col].min())\n",
    "\n",
    "    data = data.drop(to_drop, axis = 'columns')\n",
    "\n",
    "    label = data['link_exists']\n",
    "    train_data = data.drop(['link_exists'], axis = 'columns')\n",
    "    x_train, x_test, y_train, y_test = train_test_split(train_data, label, test_size=1-train_percent, random_state=42)\n",
    "    return x_train, y_train, x_test, y_test\n"
   ]
  },
  {
   "cell_type": "code",
   "execution_count": 21,
   "metadata": {},
   "outputs": [],
   "source": [
    "model_performance_data = pd.DataFrame(columns=['Dataset' ,'Model', 'Percentage of data in training', 'Train Accuracy','Test Accuracy'])"
   ]
  },
  {
   "cell_type": "code",
   "execution_count": 22,
   "metadata": {},
   "outputs": [],
   "source": [
    "def train_model(model, x_train, y_train, x_test, y_test):\n",
    "    model.fit(x_train, y_train)\n",
    "    acc_score_train = accuracy_score(y_train, model.predict(x_train))\n",
    "    acc_score_test = accuracy_score(y_test, model.predict(x_test))\n",
    "    return acc_score_train, acc_score_test"
   ]
  },
  {
   "cell_type": "code",
   "execution_count": 23,
   "metadata": {},
   "outputs": [],
   "source": [
    "def model_performance(dataset, model, name, x_train, y_train, x_test, y_test, percentage_of_data_in_training):\n",
    "    accuracy_score_train, accuracy_score_test = train_model(model, x_train, y_train, x_test, y_test)\n",
    "    model_performance_data.loc[len(model_performance_data.index)] = [dataset, name, percentage_of_data_in_training,\n",
    "                                                                      accuracy_score_train, accuracy_score_test]"
   ]
  },
  {
   "cell_type": "code",
   "execution_count": 24,
   "metadata": {},
   "outputs": [],
   "source": [
    "data = ['data/CondMat.csv', 'data/GenRel.csv', 'data/ErdosRenyi.csv', 'data/BarabasiAlbert.csv']\n",
    "\n",
    "percentages = [0.1, 0.3, 0.5, 0.7, 0.9]\n",
    "\n",
    "for dataset in data:\n",
    "    for percent in percentages:\n",
    "        x_train, y_train, x_test, y_test = prep_data(dataset, percent)\n",
    "        model = GaussianNB()\n",
    "        model_performance(dataset, model, 'GaussianNB', x_train, y_train, x_test, y_test, percent)\n",
    "        model = DecisionTreeClassifier(criterion='entropy', random_state=42)\n",
    "        model_performance(dataset, model, 'DecisionTreeClassifier', x_train, y_train, x_test, y_test, percent)\n",
    "        model = KNeighborsClassifier()\n",
    "        model_performance(dataset, model, 'KNeigborsClassifier', x_train, y_train, x_test, y_test, percent)\n",
    "        model = AdaBoostClassifier(algorithm='SAMME', random_state=42)\n",
    "        model_performance(dataset, model, 'AdaBoostClassifier', x_train, y_train, x_test, y_test, percent)\n",
    "        model = BaggingClassifier(random_state=42)\n",
    "        model_performance(dataset, model, 'BaggingClassifier', x_train, y_train, x_test, y_test, percent)\n",
    "\n",
    "model_performance_data.to_csv('performance/model_performance_without_ego.csv', index=False)"
   ]
  },
  {
   "cell_type": "markdown",
   "metadata": {},
   "source": [
    "Nemamo problema sa overfit-om i underfit-om zato što je rezultat predvidjanja sličan na skupu za treniranje i testiranje. \n",
    "\n",
    "Modeli rade bolje predviđanje nad veštački generisanim mrežama (Erdos-Renyi i Barabasi Albert), i na većim mrežama zato što veličina skupa podataka za treniranje utiče na tačnost modela što se vidi i na pojedinačnim mrežama što više koristimo za treniranje imaćemo bolje predviđanje.\n",
    "\n",
    "Modeli bazirani na stablima odlučivanja"
   ]
  }
 ],
 "metadata": {
  "kernelspec": {
   "display_name": "AI",
   "language": "python",
   "name": "python3"
  },
  "language_info": {
   "codemirror_mode": {
    "name": "ipython",
    "version": 3
   },
   "file_extension": ".py",
   "mimetype": "text/x-python",
   "name": "python",
   "nbconvert_exporter": "python",
   "pygments_lexer": "ipython3",
   "version": "3.12.3"
  }
 },
 "nbformat": 4,
 "nbformat_minor": 2
}
